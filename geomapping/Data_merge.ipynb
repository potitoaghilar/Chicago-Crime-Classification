{
 "cells": [
  {
   "cell_type": "code",
   "execution_count": 3,
   "metadata": {
    "collapsed": true
   },
   "outputs": [],
   "source": [
    "import pandas as pd\n",
    "import numpy as np\n",
    "import matplotlib.pyplot as plt\n",
    "from geopandas import GeoDataFrame\n",
    "import geopandas\n",
    "from shapely.geometry import Point\n",
    "import re\n",
    "from fiona.crs import from_epsg\n",
    "from shapely import geometry\n",
    "from shapely.geometry import Polygon"
   ]
  },
  {
   "cell_type": "markdown",
   "metadata": {},
   "source": [
    "#### Here we first merge the population density to the original dataset"
   ]
  },
  {
   "cell_type": "code",
   "execution_count": 4,
   "metadata": {
    "collapsed": true
   },
   "outputs": [],
   "source": [
    "population = pd.read_csv(\"DEC_10_SF1_P8_with_ann.csv\")\n",
    "cs_shape = GeoDataFrame.from_file(\"Census_Tract/geo_export_cd871589-cb60-4202-b265-8cc7ce7eda51.shp\")\n",
    "cs_shape = cs_shape.rename(columns = {\"name10\":\"tractnum\"})\n",
    "cs_shape[\"tractnum\"] = pd.to_numeric(cs_shape[\"tractnum\"])\n",
    "population = population.rename(columns={\"GEO.display-label\":\"tractnum\"})\n",
    "\n",
    "### define a function to find the census tract number\n",
    "def findnum(data):\n",
    "    reg = re.findall(r\"\\d+\\.*\\d*\", data)\n",
    "    return float(reg[0])"
   ]
  },
  {
   "cell_type": "code",
   "execution_count": 5,
   "metadata": {
    "collapsed": true
   },
   "outputs": [],
   "source": [
    "population = population[[\"tractnum\", \"D001\"]].drop([0])\n",
    "population[\"tractnum\"] = population[\"tractnum\"].apply(findnum)\n",
    "population[\"tractnum\"] = pd.to_numeric(population[\"tractnum\"])\n",
    "cs_info = population.merge(cs_shape, on=\"tractnum\")\n",
    "cs_info = GeoDataFrame(cs_info, crs={'init': 'epsg:4326'}, geometry = \"geometry\")\n",
    "beats = GeoDataFrame.from_file(\"beats/geo_export_197eb2e2-6cc6-4e1d-b7f1-d298aca5f97c.shp\")\n",
    "\n",
    "## define function to obtain the population density\n",
    "def mappopulation(data):\n",
    "    popu = 0\n",
    "    for i in cs_info.index:\n",
    "        ratio = data.geometry.intersection(cs_info.geometry[i]).area/cs_info.geometry[i].area\n",
    "        p_r = cs_info[\"D001\"][i]*ratio\n",
    "        popu += p_r\n",
    "    return popu"
   ]
  },
  {
   "cell_type": "code",
   "execution_count": 6,
   "metadata": {
    "collapsed": true
   },
   "outputs": [],
   "source": [
    "cs_info[\"D001\"] = pd.to_numeric(cs_info[\"D001\"])\n",
    "beats[\"pop_num\"] = beats.apply(mappopulation, axis=1)\n",
    "pop_den = beats.copy()\n",
    "pop_den = pop_den.to_crs(epsg=2263)\n",
    "pop_den[\"density\"] = pop_den[\"pop_num\"]/(pop_den.geometry.area/(5280)**2)\n",
    "pop_den = pop_den[[\"geometry\", \"density\", \"beat_num\"]]"
   ]
  },
  {
   "cell_type": "code",
   "execution_count": 7,
   "metadata": {
    "collapsed": true
   },
   "outputs": [],
   "source": [
    "data = pd.read_csv(\"ChicagoCrime.csv\", parse_dates=[\"Date\"]) # read the Chicago crime data"
   ]
  },
  {
   "cell_type": "code",
   "execution_count": 8,
   "metadata": {
    "collapsed": false
   },
   "outputs": [
    {
     "data": {
      "text/plain": [
       "Index(['ID', 'Case Number', 'Date', 'Block', 'IUCR', 'Primary Type',\n",
       "       'Description', 'Location Description', 'Arrest', 'Domestic', 'Beat',\n",
       "       'District', 'Ward', 'Community Area', 'FBI Code', 'X Coordinate',\n",
       "       'Y Coordinate', 'Year', 'Updated On', 'Latitude', 'Longitude',\n",
       "       'Location'],\n",
       "      dtype='object')"
      ]
     },
     "execution_count": 8,
     "metadata": {},
     "output_type": "execute_result"
    }
   ],
   "source": [
    "data.columns"
   ]
  },
  {
   "cell_type": "markdown",
   "metadata": {},
   "source": [
    "#### Choose the necessary feature from the dataset"
   ]
  },
  {
   "cell_type": "code",
   "execution_count": 9,
   "metadata": {
    "collapsed": false
   },
   "outputs": [
    {
     "name": "stderr",
     "output_type": "stream",
     "text": [
      "//anaconda/lib/python3.5/site-packages/ipykernel/__main__.py:2: SettingWithCopyWarning: \n",
      "A value is trying to be set on a copy of a slice from a DataFrame.\n",
      "Try using .loc[row_indexer,col_indexer] = value instead\n",
      "\n",
      "See the caveats in the documentation: http://pandas.pydata.org/pandas-docs/stable/indexing.html#indexing-view-versus-copy\n",
      "  from ipykernel import kernelapp as app\n",
      "//anaconda/lib/python3.5/site-packages/ipykernel/__main__.py:3: SettingWithCopyWarning: \n",
      "A value is trying to be set on a copy of a slice from a DataFrame.\n",
      "Try using .loc[row_indexer,col_indexer] = value instead\n",
      "\n",
      "See the caveats in the documentation: http://pandas.pydata.org/pandas-docs/stable/indexing.html#indexing-view-versus-copy\n",
      "  app.launch_new_instance()\n",
      "//anaconda/lib/python3.5/site-packages/ipykernel/__main__.py:4: SettingWithCopyWarning: \n",
      "A value is trying to be set on a copy of a slice from a DataFrame.\n",
      "Try using .loc[row_indexer,col_indexer] = value instead\n",
      "\n",
      "See the caveats in the documentation: http://pandas.pydata.org/pandas-docs/stable/indexing.html#indexing-view-versus-copy\n",
      "//anaconda/lib/python3.5/site-packages/ipykernel/__main__.py:5: SettingWithCopyWarning: \n",
      "A value is trying to be set on a copy of a slice from a DataFrame.\n",
      "Try using .loc[row_indexer,col_indexer] = value instead\n",
      "\n",
      "See the caveats in the documentation: http://pandas.pydata.org/pandas-docs/stable/indexing.html#indexing-view-versus-copy\n",
      "//anaconda/lib/python3.5/site-packages/ipykernel/__main__.py:6: SettingWithCopyWarning: \n",
      "A value is trying to be set on a copy of a slice from a DataFrame.\n",
      "Try using .loc[row_indexer,col_indexer] = value instead\n",
      "\n",
      "See the caveats in the documentation: http://pandas.pydata.org/pandas-docs/stable/indexing.html#indexing-view-versus-copy\n",
      "//anaconda/lib/python3.5/site-packages/ipykernel/__main__.py:7: SettingWithCopyWarning: \n",
      "A value is trying to be set on a copy of a slice from a DataFrame.\n",
      "Try using .loc[row_indexer,col_indexer] = value instead\n",
      "\n",
      "See the caveats in the documentation: http://pandas.pydata.org/pandas-docs/stable/indexing.html#indexing-view-versus-copy\n",
      "//anaconda/lib/python3.5/site-packages/ipykernel/__main__.py:8: SettingWithCopyWarning: \n",
      "A value is trying to be set on a copy of a slice from a DataFrame.\n",
      "Try using .loc[row_indexer,col_indexer] = value instead\n",
      "\n",
      "See the caveats in the documentation: http://pandas.pydata.org/pandas-docs/stable/indexing.html#indexing-view-versus-copy\n",
      "//anaconda/lib/python3.5/site-packages/ipykernel/__main__.py:9: SettingWithCopyWarning: \n",
      "A value is trying to be set on a copy of a slice from a DataFrame.\n",
      "Try using .loc[row_indexer,col_indexer] = value instead\n",
      "\n",
      "See the caveats in the documentation: http://pandas.pydata.org/pandas-docs/stable/indexing.html#indexing-view-versus-copy\n"
     ]
    }
   ],
   "source": [
    "d_f = data[[\"Date\", 'Block', 'Beat', 'District', 'Primary Type', 'Ward', 'Location Description', 'Community Area']]\n",
    "d_f[\"Year\"] = d_f[\"Date\"].apply(lambda x: x.year)\n",
    "d_f[\"Month\"] = d_f[\"Date\"].apply(lambda x: x.month)\n",
    "d_f[\"Day\"] = d_f[\"Date\"].apply(lambda x: x.day)\n",
    "d_f[\"Dow\"] = d_f[\"Date\"].apply(lambda x: x.dayofweek)\n",
    "d_f[\"Month\"] = d_f[\"Date\"].apply(lambda x: x.month)\n",
    "d_f[\"Hour\"] = d_f[\"Date\"].apply(lambda x: x.hour)\n",
    "d_f[\"Minute\"] = d_f[\"Date\"].apply(lambda x: x.minute)\n",
    "d_f[\"Second\"] = d_f[\"Date\"].apply(lambda x: x.second)"
   ]
  },
  {
   "cell_type": "code",
   "execution_count": 10,
   "metadata": {
    "collapsed": true
   },
   "outputs": [],
   "source": [
    "d_f = pd.concat([d_f, data[[\"Latitude\", \"Longitude\"]]],axis=1)\n",
    "d_f = d_f[d_f[\"Primary Type\"].isin([\"BURGLARY\", \"BATTERY\", \"CRIM SEXUAL ASSAULT\", \"HOMICIDE\", \"ROBBERY\"])]"
   ]
  },
  {
   "cell_type": "code",
   "execution_count": 12,
   "metadata": {
    "collapsed": false
   },
   "outputs": [],
   "source": [
    "d_f.to_csv(\"out_data/chicago_features.csv\")"
   ]
  }
 ],
 "metadata": {
  "kernelspec": {
   "display_name": "Python [conda root]",
   "language": "python",
   "name": "conda-root-py"
  },
  "language_info": {
   "codemirror_mode": {
    "name": "ipython",
    "version": 3
   },
   "file_extension": ".py",
   "mimetype": "text/x-python",
   "name": "python",
   "nbconvert_exporter": "python",
   "pygments_lexer": "ipython3",
   "version": "3.5.2"
  }
 },
 "nbformat": 4,
 "nbformat_minor": 1
}
