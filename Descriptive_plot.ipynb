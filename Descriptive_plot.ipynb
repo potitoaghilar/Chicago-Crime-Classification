{
 "cells": [
  {
   "cell_type": "code",
   "execution_count": 5,
   "metadata": {
    "collapsed": true
   },
   "outputs": [],
   "source": [
    "import pandas as pd\n",
    "import matplotlib.pyplot as plt\n",
    "from functools import reduce\n",
    "import os\n",
    "plt.rcParams['figure.figsize'] = (10.0, 8.0)\n",
    "plt.style.use(\"ggplot\")\n",
    "%matplotlib inline"
   ]
  },
  {
   "cell_type": "code",
   "execution_count": null,
   "metadata": {
    "collapsed": true
   },
   "outputs": [],
   "source": [
    "d_f = pd.read_csv(\"out_data/chicago_features.csv\")"
   ]
  },
  {
   "cell_type": "code",
   "execution_count": null,
   "metadata": {
    "collapsed": true
   },
   "outputs": [],
   "source": [
    "'''\n",
    "define function to make plot easier, for different purpose just modify the according lines\n",
    "'''\n",
    "def plot_func(names, picname):\n",
    "    loc_df_ = d_f[[names, \"Primary Type\"]].groupby(\"Primary Type\")\n",
    "    dicts = {}\n",
    "    def func(d, data):\n",
    "        d.setdefault(data[0], data[1][0])\n",
    "        return d\n",
    "    for crimes in loc_df[\"Primary Type\"].unique():\n",
    "        temp_df = loc_df_.get_group(crimes).groupby(names).count().sort(\"Primary Type\", ascending=False)\n",
    "        tol = temp_df.sum().values[0]\n",
    "        most_name = temp_df.index.values # moidfy this line and related lines to get the full value\n",
    "        most_num = temp_df.values/tol*100\n",
    "        maplist = zip(most_name, most_num)\n",
    "        dicts.setdefault(crimes, {})\n",
    "        t_dict = dict(reduce(func, maplist, {}))\n",
    "        dicts[crimes] = t_dict\n",
    "\n",
    "    loc_ = pd.DataFrame.from_dict(dicts, orient=\"columns\") # also change the orient for different purpose\n",
    "    ax = loc_.plot(figsize=(15,10), rot=-45) ## modify this line to get the different kind of plot\n",
    "    ax.set_xlabel(\"day of week\")\n",
    "    ax.set_ylabel(\"percentage(%)\")\n",
    "    ax.set_xticklabels([\"Mon\", \"Tue\", \"Wen\", \"Thu\", \"Fri\", \"Sat\", \"Sun\"]) #keep or remove this line\n",
    "    plt.savefig(os.path.join(\"picture/\", picname, \".png\"))"
   ]
  },
  {
   "cell_type": "code",
   "execution_count": null,
   "metadata": {
    "collapsed": true
   },
   "outputs": [],
   "source": [
    "plot_func(\"Month\", \"month_plot\")"
   ]
  }
 ],
 "metadata": {
  "anaconda-cloud": {},
  "kernelspec": {
   "display_name": "Python [conda root]",
   "language": "python",
   "name": "conda-root-py"
  },
  "language_info": {
   "codemirror_mode": {
    "name": "ipython",
    "version": 3
   },
   "file_extension": ".py",
   "mimetype": "text/x-python",
   "name": "python",
   "nbconvert_exporter": "python",
   "pygments_lexer": "ipython3",
   "version": "3.5.2"
  }
 },
 "nbformat": 4,
 "nbformat_minor": 1
}
